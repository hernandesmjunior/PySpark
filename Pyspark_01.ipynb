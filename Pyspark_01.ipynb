{
 "cells": [
  {
   "cell_type": "markdown",
   "id": "75d4c8cc",
   "metadata": {},
   "source": [
    "# TREINAMENTO PYSPARK"
   ]
  },
  {
   "cell_type": "code",
   "execution_count": 1,
   "id": "2c729897",
   "metadata": {},
   "outputs": [],
   "source": [
    "import os\n",
    "import sys\n",
    "\n",
    "os.environ['PYSPARK_PYTHON'] = sys.executable\n",
    "os.environ['PYSPARK_DRIVER_PYTHON'] = sys.executable"
   ]
  },
  {
   "cell_type": "markdown",
   "id": "7d22a50f",
   "metadata": {},
   "source": [
    "# 1.0 Importando bibliotecas"
   ]
  },
  {
   "cell_type": "code",
   "execution_count": 2,
   "id": "2dd88d77",
   "metadata": {},
   "outputs": [],
   "source": [
    "from pyspark.sql import SparkSession\n",
    "\n",
    "from pyspark.sql.functions import *\n",
    "\n",
    "from pyspark.sql.types import *"
   ]
  },
  {
   "cell_type": "markdown",
   "id": "1ab46615",
   "metadata": {},
   "source": [
    "# 2.0 Iniciando sessão"
   ]
  },
  {
   "cell_type": "code",
   "execution_count": 3,
   "id": "0a1f3247",
   "metadata": {},
   "outputs": [],
   "source": [
    "spark = (\n",
    "    SparkSession.builder\n",
    "    .master('local')\n",
    "    .appName('PySpark_01')\n",
    "    .getOrCreate()\n",
    ")"
   ]
  },
  {
   "cell_type": "markdown",
   "id": "66703665",
   "metadata": {},
   "source": [
    "# 3.0 Importando dataset"
   ]
  },
  {
   "cell_type": "code",
   "execution_count": 4,
   "id": "39ba614a",
   "metadata": {},
   "outputs": [],
   "source": [
    "df = spark.read.csv('wc2018-players.csv', header=True, inferSchema=True)"
   ]
  },
  {
   "cell_type": "code",
   "execution_count": 5,
   "id": "fd65eab2",
   "metadata": {},
   "outputs": [
    {
     "name": "stdout",
     "output_type": "stream",
     "text": [
      "+---------+---+----+------------------+----------+----------+--------------------+------+------+\n",
      "|     Team|  #|Pos.| FIFA Popular Name|Birth Date|Shirt Name|                Club|Height|Weight|\n",
      "+---------+---+----+------------------+----------+----------+--------------------+------+------+\n",
      "|Argentina|  3|  DF|TAGLIAFICO Nicolas|31.08.1992|TAGLIAFICO|      AFC Ajax (NED)|   169|    65|\n",
      "|Argentina| 22|  MF|    PAVON Cristian|21.01.1996|     PAVÓN|CA Boca Juniors (...|   169|    65|\n",
      "|Argentina| 15|  MF|    LANZINI Manuel|15.02.1993|   LANZINI|West Ham United F...|   167|    66|\n",
      "|Argentina| 18|  DF|    SALVIO Eduardo|13.07.1990|    SALVIO|    SL Benfica (POR)|   167|    69|\n",
      "|Argentina| 10|  FW|      MESSI Lionel|24.06.1987|     MESSI|  FC Barcelona (ESP)|   170|    72|\n",
      "+---------+---+----+------------------+----------+----------+--------------------+------+------+\n",
      "only showing top 5 rows\n",
      "\n"
     ]
    }
   ],
   "source": [
    "df.show(5)"
   ]
  },
  {
   "cell_type": "markdown",
   "id": "2ca9559e",
   "metadata": {},
   "source": [
    "# 4.0 Verificando tipos das colunas"
   ]
  },
  {
   "cell_type": "code",
   "execution_count": 6,
   "id": "f3255274",
   "metadata": {},
   "outputs": [
    {
     "name": "stdout",
     "output_type": "stream",
     "text": [
      "root\n",
      " |-- Team: string (nullable = true)\n",
      " |-- #: integer (nullable = true)\n",
      " |-- Pos.: string (nullable = true)\n",
      " |-- FIFA Popular Name: string (nullable = true)\n",
      " |-- Birth Date: string (nullable = true)\n",
      " |-- Shirt Name: string (nullable = true)\n",
      " |-- Club: string (nullable = true)\n",
      " |-- Height: integer (nullable = true)\n",
      " |-- Weight: integer (nullable = true)\n",
      "\n"
     ]
    }
   ],
   "source": [
    "df.printSchema()"
   ]
  },
  {
   "cell_type": "markdown",
   "id": "d4a80eb7",
   "metadata": {},
   "source": [
    "# 5.0 Renomeando coluna"
   ]
  },
  {
   "cell_type": "code",
   "execution_count": 7,
   "id": "79acc98f",
   "metadata": {},
   "outputs": [],
   "source": [
    "df = df.withColumnRenamed('Pos.', 'Posicao').withColumnRenamed('Team', 'Selecao').withColumnRenamed('FIFA Popular Name', 'Nome_FIFA')\\\n",
    ".withColumnRenamed('Birth Date', 'Nascimento').withColumnRenamed('Shirt Name', 'Nome_Camiseta')\\\n",
    ".withColumnRenamed('Club', 'Time').withColumnRenamed('Height', 'Altura')\\\n",
    ".withColumnRenamed('Weight', 'Peso')"
   ]
  },
  {
   "cell_type": "markdown",
   "id": "1e758cc3",
   "metadata": {},
   "source": [
    "# 6.0 Verificando dados nulos"
   ]
  },
  {
   "cell_type": "code",
   "execution_count": 8,
   "id": "3d0e613f",
   "metadata": {},
   "outputs": [
    {
     "data": {
      "text/plain": [
       "Selecao          0\n",
       "#                0\n",
       "Posicao          0\n",
       "Nome_FIFA        0\n",
       "Nascimento       0\n",
       "Nome_Camiseta    0\n",
       "Time             0\n",
       "Altura           0\n",
       "Peso             0\n",
       "dtype: int64"
      ]
     },
     "execution_count": 8,
     "metadata": {},
     "output_type": "execute_result"
    }
   ],
   "source": [
    "# se o df não for tão grande\n",
    "\n",
    "df.toPandas().isna().sum()"
   ]
  },
  {
   "cell_type": "code",
   "execution_count": 9,
   "id": "3c4a72c2",
   "metadata": {},
   "outputs": [
    {
     "name": "stdout",
     "output_type": "stream",
     "text": [
      "Selecao 0\n",
      "# 0\n",
      "Posicao 0\n",
      "Nome_FIFA 0\n",
      "Nascimento 0\n",
      "Nome_Camiseta 0\n",
      "Time 0\n",
      "Altura 0\n",
      "Peso 0\n"
     ]
    }
   ],
   "source": [
    "# se o df for grande\n",
    "\n",
    "for coluna in df.columns:\n",
    "    print(coluna, df.filter(df[coluna].isNull()).count())"
   ]
  },
  {
   "cell_type": "markdown",
   "id": "5f783f67",
   "metadata": {},
   "source": [
    "# 7.0 Selecionar colunas"
   ]
  },
  {
   "cell_type": "code",
   "execution_count": 10,
   "id": "52852e6b",
   "metadata": {},
   "outputs": [
    {
     "name": "stdout",
     "output_type": "stream",
     "text": [
      "+---------+------------------+\n",
      "|  Selecao|         Nome_FIFA|\n",
      "+---------+------------------+\n",
      "|Argentina|TAGLIAFICO Nicolas|\n",
      "|Argentina|    PAVON Cristian|\n",
      "|Argentina|    LANZINI Manuel|\n",
      "|Argentina|    SALVIO Eduardo|\n",
      "|Argentina|      MESSI Lionel|\n",
      "+---------+------------------+\n",
      "only showing top 5 rows\n",
      "\n"
     ]
    }
   ],
   "source": [
    "df.select('Selecao','Nome_FIFA').show(5)"
   ]
  },
  {
   "cell_type": "code",
   "execution_count": 11,
   "id": "56c77413",
   "metadata": {},
   "outputs": [
    {
     "name": "stdout",
     "output_type": "stream",
     "text": [
      "+---------+------+\n",
      "|  Selecao|Altura|\n",
      "+---------+------+\n",
      "|Argentina|   169|\n",
      "|Argentina|   169|\n",
      "|Argentina|   167|\n",
      "|Argentina|   167|\n",
      "|Argentina|   170|\n",
      "+---------+------+\n",
      "only showing top 5 rows\n",
      "\n"
     ]
    }
   ],
   "source": [
    "df.select(col('Selecao'), col('Altura')).show(5)"
   ]
  },
  {
   "cell_type": "code",
   "execution_count": 12,
   "id": "e588ef39",
   "metadata": {},
   "outputs": [
    {
     "name": "stdout",
     "output_type": "stream",
     "text": [
      "+---------+\n",
      "|  Selecao|\n",
      "+---------+\n",
      "|Argentina|\n",
      "|Argentina|\n",
      "|Argentina|\n",
      "|Argentina|\n",
      "|Argentina|\n",
      "+---------+\n",
      "only showing top 5 rows\n",
      "\n"
     ]
    }
   ],
   "source": [
    "df.select(df['Selecao']).show(5)"
   ]
  },
  {
   "cell_type": "markdown",
   "id": "889cf0c5",
   "metadata": {},
   "source": [
    "Selecionando com ALIAS"
   ]
  },
  {
   "cell_type": "code",
   "execution_count": 13,
   "id": "a7930836",
   "metadata": {},
   "outputs": [
    {
     "name": "stdout",
     "output_type": "stream",
     "text": [
      "+---------+\n",
      "|     Time|\n",
      "+---------+\n",
      "|Argentina|\n",
      "|Argentina|\n",
      "|Argentina|\n",
      "|Argentina|\n",
      "|Argentina|\n",
      "+---------+\n",
      "only showing top 5 rows\n",
      "\n"
     ]
    }
   ],
   "source": [
    "df.select(col('Selecao').alias('Time')).show(5)"
   ]
  },
  {
   "cell_type": "markdown",
   "id": "237b9d6b",
   "metadata": {},
   "source": [
    "# 8.0 Organizando select"
   ]
  },
  {
   "cell_type": "code",
   "execution_count": 14,
   "id": "76ba03ca",
   "metadata": {},
   "outputs": [
    {
     "name": "stdout",
     "output_type": "stream",
     "text": [
      "+------------------+----+------+\n",
      "|         Nome_fifa|Peso|Altura|\n",
      "+------------------+----+------+\n",
      "|TAGLIAFICO Nicolas|  65|   169|\n",
      "|    PAVON Cristian|  65|   169|\n",
      "|    LANZINI Manuel|  66|   167|\n",
      "|    SALVIO Eduardo|  69|   167|\n",
      "|      MESSI Lionel|  72|   170|\n",
      "+------------------+----+------+\n",
      "only showing top 5 rows\n",
      "\n"
     ]
    }
   ],
   "source": [
    "df.select('Nome_fifa','Peso','Altura').show(5)"
   ]
  },
  {
   "cell_type": "markdown",
   "id": "6a5edb0c",
   "metadata": {},
   "source": [
    "# 9.0 Filtrar as linhas"
   ]
  },
  {
   "cell_type": "code",
   "execution_count": 16,
   "id": "99931487",
   "metadata": {},
   "outputs": [
    {
     "name": "stdout",
     "output_type": "stream",
     "text": [
      "+-------+---+-------+-----------+----------+-------------+--------------------+------+----+\n",
      "|Selecao|  #|Posicao|  Nome_FIFA|Nascimento|Nome_Camiseta|                Time|Altura|Peso|\n",
      "+-------+---+-------+-----------+----------+-------------+--------------------+------+----+\n",
      "| Brazil| 18|     MF|       FRED|05.03.1993|         FRED|FC Shakhtar Donet...|   169|  64|\n",
      "| Brazil| 21|     FW|     TAISON|13.01.1988|       TAISON|FC Shakhtar Donet...|   172|  64|\n",
      "| Brazil| 17|     MF|FERNANDINHO|04.05.1985|  FERNANDINHO|Manchester City F...|   179|  67|\n",
      "| Brazil| 22|     DF|     FAGNER|11.06.1989|       FAGNER|SC Corinthians (BRA)|   168|  67|\n",
      "| Brazil| 10|     FW|     NEYMAR|05.02.1992|    NEYMAR JR|Paris Saint-Germa...|   175|  68|\n",
      "+-------+---+-------+-----------+----------+-------------+--------------------+------+----+\n",
      "only showing top 5 rows\n",
      "\n"
     ]
    }
   ],
   "source": [
    "df.filter('Selecao=\"Brazil\"').show(5)"
   ]
  },
  {
   "cell_type": "code",
   "execution_count": 18,
   "id": "1a282d95",
   "metadata": {},
   "outputs": [
    {
     "name": "stdout",
     "output_type": "stream",
     "text": [
      "+-------+---+-------+---------+----------+-------------+--------------------+------+----+\n",
      "|Selecao|  #|Posicao|Nome_FIFA|Nascimento|Nome_Camiseta|                Time|Altura|Peso|\n",
      "+-------+---+-------+---------+----------+-------------+--------------------+------+----+\n",
      "| Brazil| 18|     MF|     FRED|05.03.1993|         FRED|FC Shakhtar Donet...|   169|  64|\n",
      "+-------+---+-------+---------+----------+-------------+--------------------+------+----+\n",
      "\n"
     ]
    }
   ],
   "source": [
    "df.filter(col('Nome_Camiseta')==\"FRED\").show()"
   ]
  },
  {
   "cell_type": "markdown",
   "id": "6a6a5de2",
   "metadata": {},
   "source": [
    "#### Filtrar com 2 condições (AND/&)"
   ]
  },
  {
   "cell_type": "code",
   "execution_count": 20,
   "id": "7ee0fa07",
   "metadata": {},
   "outputs": [
    {
     "name": "stdout",
     "output_type": "stream",
     "text": [
      "+---------+---+-------+------------------+----------+-------------+--------------------+------+----+\n",
      "|  Selecao|  #|Posicao|         Nome_FIFA|Nascimento|Nome_Camiseta|                Time|Altura|Peso|\n",
      "+---------+---+-------+------------------+----------+-------------+--------------------+------+----+\n",
      "|Argentina|  4|     DF|  ANSALDI Cristian|20.09.1986|      ANSALDI|     Torino FC (ITA)|   181|  73|\n",
      "|Argentina|  9|     FW|   HIGUAIN Gonzalo|10.12.1987|      HIGUAÍN|   Juventus FC (ITA)|   184|  75|\n",
      "|Argentina| 23|     GK|CABALLERO Wilfredo|28.09.1981|    CABALLERO|    Chelsea FC (ENG)|   186|  80|\n",
      "|Argentina|  2|     DF|   MERCADO Gabriel|18.03.1987|      MERCADO|    Sevilla FC (ESP)|   181|  81|\n",
      "|Argentina| 17|     DF|  OTAMENDI Nicolas|12.02.1988|     OTAMENDI|Manchester City F...|   181|  81|\n",
      "|Argentina| 16|     DF|       ROJO Marcos|20.03.1990|         ROJO|Manchester United...|   189|  82|\n",
      "|Argentina|  6|     DF|    FAZIO Federico|17.03.1987|        FAZIO|       AS Roma (ITA)|   199|  85|\n",
      "|Argentina| 12|     GK|     ARMANI Franco|16.10.1986|       ARMANI|CA River Plate (ARG)|   189|  85|\n",
      "|Argentina|  1|     GK|     GUZMAN Nahuel|10.02.1986|       GUZMÁN|   Tigres UANL (MEX)|   192|  90|\n",
      "+---------+---+-------+------------------+----------+-------------+--------------------+------+----+\n",
      "\n"
     ]
    }
   ],
   "source": [
    "df.filter((col('Selecao')=='Argentina') & (col('Altura')>180)).show()"
   ]
  },
  {
   "cell_type": "markdown",
   "id": "2181e2cb",
   "metadata": {},
   "source": [
    "#### OR / |"
   ]
  },
  {
   "cell_type": "code",
   "execution_count": 23,
   "id": "0d204b82",
   "metadata": {},
   "outputs": [
    {
     "name": "stdout",
     "output_type": "stream",
     "text": [
      "+---------+---+-------+------------------+----------+-------------+--------------------+------+----+\n",
      "|  Selecao|  #|Posicao|         Nome_FIFA|Nascimento|Nome_Camiseta|                Time|Altura|Peso|\n",
      "+---------+---+-------+------------------+----------+-------------+--------------------+------+----+\n",
      "|Argentina|  3|     DF|TAGLIAFICO Nicolas|31.08.1992|   TAGLIAFICO|      AFC Ajax (NED)|   169|  65|\n",
      "|Argentina| 22|     MF|    PAVON Cristian|21.01.1996|        PAVÓN|CA Boca Juniors (...|   169|  65|\n",
      "|Argentina| 15|     MF|    LANZINI Manuel|15.02.1993|      LANZINI|West Ham United F...|   167|  66|\n",
      "|Argentina| 18|     DF|    SALVIO Eduardo|13.07.1990|       SALVIO|    SL Benfica (POR)|   167|  69|\n",
      "|Argentina| 10|     FW|      MESSI Lionel|24.06.1987|        MESSI|  FC Barcelona (ESP)|   170|  72|\n",
      "+---------+---+-------+------------------+----------+-------------+--------------------+------+----+\n",
      "only showing top 5 rows\n",
      "\n"
     ]
    }
   ],
   "source": [
    "df.filter((col('Selecao')=='Argentina') | (col('Altura')>180)).show(5)"
   ]
  },
  {
   "cell_type": "markdown",
   "id": "196e623b",
   "metadata": {},
   "source": [
    "#### AND e OR"
   ]
  },
  {
   "cell_type": "code",
   "execution_count": 26,
   "id": "7ec87fe2",
   "metadata": {},
   "outputs": [
    {
     "name": "stdout",
     "output_type": "stream",
     "text": [
      "+---------+---+-------+------------+----------+-------------+--------------------+------+----+\n",
      "|  Selecao|  #|Posicao|   Nome_FIFA|Nascimento|Nome_Camiseta|                Time|Altura|Peso|\n",
      "+---------+---+-------+------------+----------+-------------+--------------------+------+----+\n",
      "|Argentina| 10|     FW|MESSI Lionel|24.06.1987|        MESSI|  FC Barcelona (ESP)|   170|  72|\n",
      "|   Brazil| 22|     DF|      FAGNER|11.06.1989|       FAGNER|SC Corinthians (BRA)|   168|  67|\n",
      "|   Brazil|  6|     DF| FILIPE LUIS|09.08.1985|  FILIPE LUIS|Atletico Madrid (...|   182|  73|\n",
      "|   Brazil| 13|     DF|  MARQUINHOS|14.05.1994|   MARQUINHOS|Paris Saint-Germa...|   183|  75|\n",
      "|   Brazil|  3|     DF|     MIRANDA|07.09.1984|      MIRANDA|FC Internazionale...|   186|  78|\n",
      "+---------+---+-------+------------+----------+-------------+--------------------+------+----+\n",
      "only showing top 5 rows\n",
      "\n"
     ]
    }
   ],
   "source": [
    "df.filter((col('Selecao')=='Brazil') & (col('Posicao')=='DF') | (col('Nome_FIFA')=='MESSI Lionel')).show(5)"
   ]
  },
  {
   "cell_type": "markdown",
   "id": "6f6bbb76",
   "metadata": {},
   "source": [
    "# 10. Criando novas colunas"
   ]
  },
  {
   "cell_type": "code",
   "execution_count": 27,
   "id": "029643ba",
   "metadata": {},
   "outputs": [
    {
     "name": "stdout",
     "output_type": "stream",
     "text": [
      "+---------+---+-------+------------------+----------+-------------+--------------------+------+----+--------+\n",
      "|  Selecao|  #|Posicao|         Nome_FIFA|Nascimento|Nome_Camiseta|                Time|Altura|Peso|WorldCup|\n",
      "+---------+---+-------+------------------+----------+-------------+--------------------+------+----+--------+\n",
      "|Argentina|  3|     DF|TAGLIAFICO Nicolas|31.08.1992|   TAGLIAFICO|      AFC Ajax (NED)|   169|  65|    2018|\n",
      "|Argentina| 22|     MF|    PAVON Cristian|21.01.1996|        PAVÓN|CA Boca Juniors (...|   169|  65|    2018|\n",
      "|Argentina| 15|     MF|    LANZINI Manuel|15.02.1993|      LANZINI|West Ham United F...|   167|  66|    2018|\n",
      "|Argentina| 18|     DF|    SALVIO Eduardo|13.07.1990|       SALVIO|    SL Benfica (POR)|   167|  69|    2018|\n",
      "|Argentina| 10|     FW|      MESSI Lionel|24.06.1987|        MESSI|  FC Barcelona (ESP)|   170|  72|    2018|\n",
      "+---------+---+-------+------------------+----------+-------------+--------------------+------+----+--------+\n",
      "only showing top 5 rows\n",
      "\n"
     ]
    }
   ],
   "source": [
    "df.withColumn('WorldCup', lit(2018)).show(5)"
   ]
  },
  {
   "cell_type": "code",
   "execution_count": 28,
   "id": "921ccd18",
   "metadata": {},
   "outputs": [
    {
     "name": "stdout",
     "output_type": "stream",
     "text": [
      "+---------+---+-------+------------------+----------+-------------+--------------------+------+----+------------------+\n",
      "|  Selecao|  #|Posicao|         Nome_FIFA|Nascimento|Nome_Camiseta|                Time|Altura|Peso|               IMC|\n",
      "+---------+---+-------+------------------+----------+-------------+--------------------+------+----+------------------+\n",
      "|Argentina|  3|     DF|TAGLIAFICO Nicolas|31.08.1992|   TAGLIAFICO|      AFC Ajax (NED)|   169|  65|               2.6|\n",
      "|Argentina| 22|     MF|    PAVON Cristian|21.01.1996|        PAVÓN|CA Boca Juniors (...|   169|  65|               2.6|\n",
      "|Argentina| 15|     MF|    LANZINI Manuel|15.02.1993|      LANZINI|West Ham United F...|   167|  66|2.5303030303030303|\n",
      "|Argentina| 18|     DF|    SALVIO Eduardo|13.07.1990|       SALVIO|    SL Benfica (POR)|   167|  69| 2.420289855072464|\n",
      "|Argentina| 10|     FW|      MESSI Lionel|24.06.1987|        MESSI|  FC Barcelona (ESP)|   170|  72| 2.361111111111111|\n",
      "+---------+---+-------+------------------+----------+-------------+--------------------+------+----+------------------+\n",
      "only showing top 5 rows\n",
      "\n"
     ]
    }
   ],
   "source": [
    "df.withColumn('IMC', lit(col('Altura')/col('Peso'))).show(5)"
   ]
  },
  {
   "cell_type": "markdown",
   "id": "22d5a03c",
   "metadata": {},
   "source": [
    "#### Coluna condicional"
   ]
  },
  {
   "cell_type": "code",
   "execution_count": 29,
   "id": "5666bd9e",
   "metadata": {},
   "outputs": [
    {
     "name": "stdout",
     "output_type": "stream",
     "text": [
      "+---------+---+-------+------------------+----------+-------------+--------------------+------+----+---+\n",
      "|  Selecao|  #|Posicao|         Nome_FIFA|Nascimento|Nome_Camiseta|                Time|Altura|Peso|Sub|\n",
      "+---------+---+-------+------------------+----------+-------------+--------------------+------+----+---+\n",
      "|Argentina|  3|     DF|TAGLIAFICO Nicolas|31.08.1992|   TAGLIAFICO|      AFC Ajax (NED)|   169|  65|Arg|\n",
      "|Argentina| 22|     MF|    PAVON Cristian|21.01.1996|        PAVÓN|CA Boca Juniors (...|   169|  65|Arg|\n",
      "|Argentina| 15|     MF|    LANZINI Manuel|15.02.1993|      LANZINI|West Ham United F...|   167|  66|Arg|\n",
      "|Argentina| 18|     DF|    SALVIO Eduardo|13.07.1990|       SALVIO|    SL Benfica (POR)|   167|  69|Arg|\n",
      "|Argentina| 10|     FW|      MESSI Lionel|24.06.1987|        MESSI|  FC Barcelona (ESP)|   170|  72|Arg|\n",
      "+---------+---+-------+------------------+----------+-------------+--------------------+------+----+---+\n",
      "only showing top 5 rows\n",
      "\n"
     ]
    }
   ],
   "source": [
    "df.withColumn('Sub', substring('Selecao', 1, 3)).show(5)"
   ]
  },
  {
   "cell_type": "markdown",
   "id": "4f7c28a6",
   "metadata": {},
   "source": [
    "#### Concatenar"
   ]
  },
  {
   "cell_type": "code",
   "execution_count": 30,
   "id": "92673166",
   "metadata": {},
   "outputs": [
    {
     "name": "stdout",
     "output_type": "stream",
     "text": [
      "+---------+---+-------+------------------+----------+-------------+--------------------+------+----+-------------------+\n",
      "|  Selecao|  #|Posicao|         Nome_FIFA|Nascimento|Nome_Camiseta|                Time|Altura|Peso|             Concat|\n",
      "+---------+---+-------+------------------+----------+-------------+--------------------+------+----+-------------------+\n",
      "|Argentina|  3|     DF|TAGLIAFICO Nicolas|31.08.1992|   TAGLIAFICO|      AFC Ajax (NED)|   169|  65|ArgentinaTAGLIAFICO|\n",
      "|Argentina| 22|     MF|    PAVON Cristian|21.01.1996|        PAVÓN|CA Boca Juniors (...|   169|  65|     ArgentinaPAVÓN|\n",
      "|Argentina| 15|     MF|    LANZINI Manuel|15.02.1993|      LANZINI|West Ham United F...|   167|  66|   ArgentinaLANZINI|\n",
      "|Argentina| 18|     DF|    SALVIO Eduardo|13.07.1990|       SALVIO|    SL Benfica (POR)|   167|  69|    ArgentinaSALVIO|\n",
      "|Argentina| 10|     FW|      MESSI Lionel|24.06.1987|        MESSI|  FC Barcelona (ESP)|   170|  72|     ArgentinaMESSI|\n",
      "+---------+---+-------+------------------+----------+-------------+--------------------+------+----+-------------------+\n",
      "only showing top 5 rows\n",
      "\n"
     ]
    }
   ],
   "source": [
    "df.withColumn('Concat', concat('Selecao', 'Nome_camiseta')).show(5)"
   ]
  },
  {
   "cell_type": "code",
   "execution_count": 32,
   "id": "6977855c",
   "metadata": {},
   "outputs": [
    {
     "name": "stdout",
     "output_type": "stream",
     "text": [
      "+---------+---+-------+------------------+----------+-------------+--------------------+------+----+--------------------+\n",
      "|  Selecao|  #|Posicao|         Nome_FIFA|Nascimento|Nome_Camiseta|                Time|Altura|Peso|           Separador|\n",
      "+---------+---+-------+------------------+----------+-------------+--------------------+------+----+--------------------+\n",
      "|Argentina|  3|     DF|TAGLIAFICO Nicolas|31.08.1992|   TAGLIAFICO|      AFC Ajax (NED)|   169|  65|Argentina - 31.08...|\n",
      "|Argentina| 22|     MF|    PAVON Cristian|21.01.1996|        PAVÓN|CA Boca Juniors (...|   169|  65|Argentina - 21.01...|\n",
      "|Argentina| 15|     MF|    LANZINI Manuel|15.02.1993|      LANZINI|West Ham United F...|   167|  66|Argentina - 15.02...|\n",
      "|Argentina| 18|     DF|    SALVIO Eduardo|13.07.1990|       SALVIO|    SL Benfica (POR)|   167|  69|Argentina - 13.07...|\n",
      "|Argentina| 10|     FW|      MESSI Lionel|24.06.1987|        MESSI|  FC Barcelona (ESP)|   170|  72|Argentina - 24.06...|\n",
      "+---------+---+-------+------------------+----------+-------------+--------------------+------+----+--------------------+\n",
      "only showing top 5 rows\n",
      "\n"
     ]
    }
   ],
   "source": [
    "df.withColumn('Separador', concat_ws(' - ', 'Selecao', 'Nascimento')).show(5)"
   ]
  },
  {
   "cell_type": "markdown",
   "id": "e2a630c2",
   "metadata": {},
   "source": [
    "# 11. Alterar tipagem dos dados"
   ]
  },
  {
   "cell_type": "code",
   "execution_count": 33,
   "id": "5b0b55b0",
   "metadata": {},
   "outputs": [
    {
     "name": "stdout",
     "output_type": "stream",
     "text": [
      "root\n",
      " |-- Selecao: string (nullable = true)\n",
      " |-- #: integer (nullable = true)\n",
      " |-- Posicao: string (nullable = true)\n",
      " |-- Nome_FIFA: string (nullable = true)\n",
      " |-- Nascimento: string (nullable = true)\n",
      " |-- Nome_Camiseta: string (nullable = true)\n",
      " |-- Time: string (nullable = true)\n",
      " |-- Altura: integer (nullable = true)\n",
      " |-- Peso: integer (nullable = true)\n",
      "\n"
     ]
    }
   ],
   "source": [
    "df.printSchema()"
   ]
  },
  {
   "cell_type": "code",
   "execution_count": 36,
   "id": "ff055d69",
   "metadata": {},
   "outputs": [],
   "source": [
    "df = df.withColumn('Ano',substring('Nascimento', -4, 4))"
   ]
  },
  {
   "cell_type": "code",
   "execution_count": 37,
   "id": "a8090026",
   "metadata": {},
   "outputs": [
    {
     "name": "stdout",
     "output_type": "stream",
     "text": [
      "+---------+---+-------+------------------+----------+-------------+--------------------+------+----+----+\n",
      "|  Selecao|  #|Posicao|         Nome_FIFA|Nascimento|Nome_Camiseta|                Time|Altura|Peso| Ano|\n",
      "+---------+---+-------+------------------+----------+-------------+--------------------+------+----+----+\n",
      "|Argentina|  3|     DF|TAGLIAFICO Nicolas|31.08.1992|   TAGLIAFICO|      AFC Ajax (NED)|   169|  65|1992|\n",
      "|Argentina| 22|     MF|    PAVON Cristian|21.01.1996|        PAVÓN|CA Boca Juniors (...|   169|  65|1996|\n",
      "|Argentina| 15|     MF|    LANZINI Manuel|15.02.1993|      LANZINI|West Ham United F...|   167|  66|1993|\n",
      "|Argentina| 18|     DF|    SALVIO Eduardo|13.07.1990|       SALVIO|    SL Benfica (POR)|   167|  69|1990|\n",
      "|Argentina| 10|     FW|      MESSI Lionel|24.06.1987|        MESSI|  FC Barcelona (ESP)|   170|  72|1987|\n",
      "+---------+---+-------+------------------+----------+-------------+--------------------+------+----+----+\n",
      "only showing top 5 rows\n",
      "\n"
     ]
    }
   ],
   "source": [
    "df.show(5)"
   ]
  },
  {
   "cell_type": "code",
   "execution_count": 40,
   "id": "67191925",
   "metadata": {},
   "outputs": [],
   "source": [
    "df = df.withColumn('Ano', col('Ano').cast(IntegerType()))"
   ]
  },
  {
   "cell_type": "code",
   "execution_count": 41,
   "id": "6c96c3c7",
   "metadata": {},
   "outputs": [
    {
     "name": "stdout",
     "output_type": "stream",
     "text": [
      "root\n",
      " |-- Selecao: string (nullable = true)\n",
      " |-- #: integer (nullable = true)\n",
      " |-- Posicao: string (nullable = true)\n",
      " |-- Nome_FIFA: string (nullable = true)\n",
      " |-- Nascimento: string (nullable = true)\n",
      " |-- Nome_Camiseta: string (nullable = true)\n",
      " |-- Time: string (nullable = true)\n",
      " |-- Altura: integer (nullable = true)\n",
      " |-- Peso: integer (nullable = true)\n",
      " |-- Ano: integer (nullable = true)\n",
      "\n"
     ]
    }
   ],
   "source": [
    "df.printSchema()"
   ]
  },
  {
   "cell_type": "markdown",
   "id": "1ddcffc5",
   "metadata": {},
   "source": [
    "#### Coluna de Nascimento"
   ]
  },
  {
   "cell_type": "code",
   "execution_count": 42,
   "id": "abe3a8a5",
   "metadata": {},
   "outputs": [
    {
     "name": "stdout",
     "output_type": "stream",
     "text": [
      "+---------+---+-------+------------------+----------+-------------+--------------------+------+----+----+-----------+\n",
      "|  Selecao|  #|Posicao|         Nome_FIFA|Nascimento|Nome_Camiseta|                Time|Altura|Peso| Ano|Nascimento2|\n",
      "+---------+---+-------+------------------+----------+-------------+--------------------+------+----+----+-----------+\n",
      "|Argentina|  3|     DF|TAGLIAFICO Nicolas|31.08.1992|   TAGLIAFICO|      AFC Ajax (NED)|   169|  65|1992| ----------|\n",
      "|Argentina| 22|     MF|    PAVON Cristian|21.01.1996|        PAVÓN|CA Boca Juniors (...|   169|  65|1996| ----------|\n",
      "|Argentina| 15|     MF|    LANZINI Manuel|15.02.1993|      LANZINI|West Ham United F...|   167|  66|1993| ----------|\n",
      "|Argentina| 18|     DF|    SALVIO Eduardo|13.07.1990|       SALVIO|    SL Benfica (POR)|   167|  69|1990| ----------|\n",
      "|Argentina| 10|     FW|      MESSI Lionel|24.06.1987|        MESSI|  FC Barcelona (ESP)|   170|  72|1987| ----------|\n",
      "|Argentina|  4|     DF|  ANSALDI Cristian|20.09.1986|      ANSALDI|     Torino FC (ITA)|   181|  73|1986| ----------|\n",
      "|Argentina|  5|     MF|      BIGLIA Lucas|30.01.1986|       BIGLIA|      AC Milan (ITA)|   175|  73|1986| ----------|\n",
      "|Argentina|  7|     MF|       BANEGA Ever|29.06.1988|       BANEGA|    Sevilla FC (ESP)|   175|  73|1988| ----------|\n",
      "|Argentina| 14|     DF| MASCHERANO Javier|08.06.1984|   MASCHERANO|Hebei China Fortu...|   174|  73|1984| ----------|\n",
      "|Argentina| 21|     FW|      DYBALA Paulo|15.11.1993|       DYBALA|   Juventus FC (ITA)|   177|  73|1993| ----------|\n",
      "|Argentina| 19|     FW|     AGUERO Sergio|02.06.1988|       AGÜERO|Manchester City F...|   172|  74|1988| ----------|\n",
      "|Argentina|  9|     FW|   HIGUAIN Gonzalo|10.12.1987|      HIGUAÍN|   Juventus FC (ITA)|   184|  75|1987| ----------|\n",
      "|Argentina| 11|     MF|    DI MARIA Angel|14.02.1988|     DI MARÍA|Paris Saint-Germa...|   178|  75|1988| ----------|\n",
      "|Argentina| 20|     MF|  LO CELSO Giovani|09.04.1996|     LO CELSO|Paris Saint-Germa...|   177|  75|1996| ----------|\n",
      "|Argentina| 13|     MF|  MEZA Maximiliano|15.12.1992|         MEZA|CA Independiente ...|   180|  76|1992| ----------|\n",
      "|Argentina|  8|     DF|      ACUNA Marcos|28.10.1991|        ACUÑA|   Sporting CP (POR)|   172|  77|1991| ----------|\n",
      "|Argentina| 23|     GK|CABALLERO Wilfredo|28.09.1981|    CABALLERO|    Chelsea FC (ENG)|   186|  80|1981| ----------|\n",
      "|Argentina|  2|     DF|   MERCADO Gabriel|18.03.1987|      MERCADO|    Sevilla FC (ESP)|   181|  81|1987| ----------|\n",
      "|Argentina| 17|     DF|  OTAMENDI Nicolas|12.02.1988|     OTAMENDI|Manchester City F...|   181|  81|1988| ----------|\n",
      "|Argentina| 16|     DF|       ROJO Marcos|20.03.1990|         ROJO|Manchester United...|   189|  82|1990| ----------|\n",
      "+---------+---+-------+------------------+----------+-------------+--------------------+------+----+----+-----------+\n",
      "only showing top 20 rows\n",
      "\n"
     ]
    }
   ],
   "source": [
    "df.withColumn('Nascimento2', regexp_replace('Nascimento', '.', '-')).show()"
   ]
  },
  {
   "cell_type": "code",
   "execution_count": null,
   "id": "493bf071",
   "metadata": {},
   "outputs": [],
   "source": []
  },
  {
   "cell_type": "code",
   "execution_count": null,
   "id": "8035bc5c",
   "metadata": {},
   "outputs": [],
   "source": []
  },
  {
   "cell_type": "code",
   "execution_count": null,
   "id": "93ffbc52",
   "metadata": {},
   "outputs": [],
   "source": []
  }
 ],
 "metadata": {
  "kernelspec": {
   "display_name": "Python 3",
   "language": "python",
   "name": "python3"
  },
  "language_info": {
   "codemirror_mode": {
    "name": "ipython",
    "version": 3
   },
   "file_extension": ".py",
   "mimetype": "text/x-python",
   "name": "python",
   "nbconvert_exporter": "python",
   "pygments_lexer": "ipython3",
   "version": "3.8.8"
  }
 },
 "nbformat": 4,
 "nbformat_minor": 5
}
